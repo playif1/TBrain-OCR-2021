{
 "cells": [
  {
   "cell_type": "markdown",
   "metadata": {},
   "source": [
    "# 將原始標註資料轉換為YOLOv5格式"
   ]
  },
  {
   "cell_type": "code",
   "execution_count": 2,
   "metadata": {},
   "outputs": [],
   "source": [
    "import os\n",
    "import pandas as pd"
   ]
  },
  {
   "cell_type": "code",
   "execution_count": 4,
   "metadata": {},
   "outputs": [],
   "source": [
    "# Use the public_training_data.csv for YOLOv5 training\n",
    "train_df = pd.read_csv('./public_training_data.csv')\n",
    "#train_df.columns"
   ]
  },
  {
   "cell_type": "markdown",
   "metadata": {},
   "source": [
    "## 將超出圖片範圍的座標點clip到邊界，並且取座標的左上角與右下角當作bounding box"
   ]
  },
  {
   "cell_type": "code",
   "execution_count": 5,
   "metadata": {},
   "outputs": [
    {
     "data": {
      "text/html": [
       "<div>\n",
       "<style scoped>\n",
       "    .dataframe tbody tr th:only-of-type {\n",
       "        vertical-align: middle;\n",
       "    }\n",
       "\n",
       "    .dataframe tbody tr th {\n",
       "        vertical-align: top;\n",
       "    }\n",
       "\n",
       "    .dataframe thead th {\n",
       "        text-align: right;\n",
       "    }\n",
       "</style>\n",
       "<table border=\"1\" class=\"dataframe\">\n",
       "  <thead>\n",
       "    <tr style=\"text-align: right;\">\n",
       "      <th></th>\n",
       "      <th>filename</th>\n",
       "      <th>label</th>\n",
       "      <th>top right x</th>\n",
       "      <th>top right y</th>\n",
       "      <th>bottom right x</th>\n",
       "      <th>bottom right y</th>\n",
       "      <th>bottom left x</th>\n",
       "      <th>bottom left y</th>\n",
       "      <th>top left x</th>\n",
       "      <th>top left y</th>\n",
       "      <th>yolo_label</th>\n",
       "      <th>x_min</th>\n",
       "      <th>y_min</th>\n",
       "      <th>x_max</th>\n",
       "      <th>y_max</th>\n",
       "      <th>width</th>\n",
       "      <th>height</th>\n",
       "      <th>x_center</th>\n",
       "      <th>y_center</th>\n",
       "    </tr>\n",
       "  </thead>\n",
       "  <tbody>\n",
       "    <tr>\n",
       "      <th>0</th>\n",
       "      <td>oR72wdOuzdHVh3sMMmC4gMG2aG5jeub</td>\n",
       "      <td>3LN996012F</td>\n",
       "      <td>706.84430</td>\n",
       "      <td>411.87338</td>\n",
       "      <td>707.51070</td>\n",
       "      <td>455.82960</td>\n",
       "      <td>371.28748</td>\n",
       "      <td>462.13885</td>\n",
       "      <td>370.62106</td>\n",
       "      <td>418.18262</td>\n",
       "      <td>0</td>\n",
       "      <td>370.62106</td>\n",
       "      <td>411.87338</td>\n",
       "      <td>707.51070</td>\n",
       "      <td>462.13885</td>\n",
       "      <td>0.273449</td>\n",
       "      <td>0.048896</td>\n",
       "      <td>0.437553</td>\n",
       "      <td>0.425103</td>\n",
       "    </tr>\n",
       "    <tr>\n",
       "      <th>1</th>\n",
       "      <td>7VVWhb6tKde=x=w5x6_p=lfcTlGTBa</td>\n",
       "      <td>2FV271041L</td>\n",
       "      <td>767.03550</td>\n",
       "      <td>426.20898</td>\n",
       "      <td>767.60080</td>\n",
       "      <td>488.00024</td>\n",
       "      <td>428.13678</td>\n",
       "      <td>491.84418</td>\n",
       "      <td>427.57147</td>\n",
       "      <td>430.05290</td>\n",
       "      <td>0</td>\n",
       "      <td>427.57147</td>\n",
       "      <td>426.20898</td>\n",
       "      <td>767.60080</td>\n",
       "      <td>491.84418</td>\n",
       "      <td>0.275998</td>\n",
       "      <td>0.063847</td>\n",
       "      <td>0.485054</td>\n",
       "      <td>0.446524</td>\n",
       "    </tr>\n",
       "    <tr>\n",
       "      <th>2</th>\n",
       "      <td>VweTPTTYjERnFWFr3R7=YFKrj9NBT1Lg</td>\n",
       "      <td>2FV413012A</td>\n",
       "      <td>840.83276</td>\n",
       "      <td>495.59230</td>\n",
       "      <td>841.15540</td>\n",
       "      <td>551.61390</td>\n",
       "      <td>421.96686</td>\n",
       "      <td>554.60376</td>\n",
       "      <td>421.64413</td>\n",
       "      <td>498.58215</td>\n",
       "      <td>0</td>\n",
       "      <td>421.64413</td>\n",
       "      <td>495.59230</td>\n",
       "      <td>841.15540</td>\n",
       "      <td>554.60376</td>\n",
       "      <td>0.340512</td>\n",
       "      <td>0.057404</td>\n",
       "      <td>0.512500</td>\n",
       "      <td>0.510796</td>\n",
       "    </tr>\n",
       "    <tr>\n",
       "      <th>3</th>\n",
       "      <td>XOIg4ZPERXLzBmsdMd4XNHYH1r=Urbr</td>\n",
       "      <td>3LP563013A</td>\n",
       "      <td>871.62260</td>\n",
       "      <td>522.91460</td>\n",
       "      <td>872.52136</td>\n",
       "      <td>593.15930</td>\n",
       "      <td>352.70407</td>\n",
       "      <td>601.39160</td>\n",
       "      <td>351.80527</td>\n",
       "      <td>531.14690</td>\n",
       "      <td>0</td>\n",
       "      <td>351.80527</td>\n",
       "      <td>522.91460</td>\n",
       "      <td>872.52136</td>\n",
       "      <td>601.39160</td>\n",
       "      <td>0.422659</td>\n",
       "      <td>0.076339</td>\n",
       "      <td>0.496886</td>\n",
       "      <td>0.546842</td>\n",
       "    </tr>\n",
       "    <tr>\n",
       "      <th>4</th>\n",
       "      <td>jm85agd8RyzlDBl6jjnpypYIuVw7BTvb</td>\n",
       "      <td>3LR436033F</td>\n",
       "      <td>837.74120</td>\n",
       "      <td>424.97200</td>\n",
       "      <td>838.30910</td>\n",
       "      <td>474.88922</td>\n",
       "      <td>469.82086</td>\n",
       "      <td>480.07870</td>\n",
       "      <td>469.25296</td>\n",
       "      <td>430.16144</td>\n",
       "      <td>0</td>\n",
       "      <td>469.25296</td>\n",
       "      <td>424.97200</td>\n",
       "      <td>838.30910</td>\n",
       "      <td>480.07870</td>\n",
       "      <td>0.299559</td>\n",
       "      <td>0.053606</td>\n",
       "      <td>0.530666</td>\n",
       "      <td>0.440200</td>\n",
       "    </tr>\n",
       "  </tbody>\n",
       "</table>\n",
       "</div>"
      ],
      "text/plain": [
       "                           filename       label  top right x  top right y  \\\n",
       "0   oR72wdOuzdHVh3sMMmC4gMG2aG5jeub  3LN996012F    706.84430    411.87338   \n",
       "1    7VVWhb6tKde=x=w5x6_p=lfcTlGTBa  2FV271041L    767.03550    426.20898   \n",
       "2  VweTPTTYjERnFWFr3R7=YFKrj9NBT1Lg  2FV413012A    840.83276    495.59230   \n",
       "3   XOIg4ZPERXLzBmsdMd4XNHYH1r=Urbr  3LP563013A    871.62260    522.91460   \n",
       "4  jm85agd8RyzlDBl6jjnpypYIuVw7BTvb  3LR436033F    837.74120    424.97200   \n",
       "\n",
       "   bottom right x  bottom right y  bottom left x  bottom left y  top left x  \\\n",
       "0       707.51070       455.82960      371.28748      462.13885   370.62106   \n",
       "1       767.60080       488.00024      428.13678      491.84418   427.57147   \n",
       "2       841.15540       551.61390      421.96686      554.60376   421.64413   \n",
       "3       872.52136       593.15930      352.70407      601.39160   351.80527   \n",
       "4       838.30910       474.88922      469.82086      480.07870   469.25296   \n",
       "\n",
       "   top left y yolo_label      x_min      y_min      x_max      y_max  \\\n",
       "0   418.18262          0  370.62106  411.87338  707.51070  462.13885   \n",
       "1   430.05290          0  427.57147  426.20898  767.60080  491.84418   \n",
       "2   498.58215          0  421.64413  495.59230  841.15540  554.60376   \n",
       "3   531.14690          0  351.80527  522.91460  872.52136  601.39160   \n",
       "4   430.16144          0  469.25296  424.97200  838.30910  480.07870   \n",
       "\n",
       "      width    height  x_center  y_center  \n",
       "0  0.273449  0.048896  0.437553  0.425103  \n",
       "1  0.275998  0.063847  0.485054  0.446524  \n",
       "2  0.340512  0.057404  0.512500  0.510796  \n",
       "3  0.422659  0.076339  0.496886  0.546842  \n",
       "4  0.299559  0.053606  0.530666  0.440200  "
      ]
     },
     "execution_count": 5,
     "metadata": {},
     "output_type": "execute_result"
    }
   ],
   "source": [
    "# image_size: 1232x1028\n",
    "# x_center, y_center, width, height\n",
    "# Clip negative bbox position to 0\n",
    "def clean_bbox(df, image_width, image_height):\n",
    "    df.loc[df['top left x'] < 0, 'top left x'] = 0.0\n",
    "    df.loc[df['top left y'] < 0, 'top left y'] = 0.0\n",
    "    df.loc[df['top right x'] < 0, 'top right x'] = 0.0\n",
    "    df.loc[df['top right y'] < 0, 'top right y'] = 0.0\n",
    "    df.loc[df['bottom left x'] < 0, 'bottom left x'] = 0.0\n",
    "    df.loc[df['bottom left y'] < 0, 'bottom left y'] = 0.0\n",
    "    df.loc[df['bottom right x'] < 0, 'bottom right x'] = 0.0\n",
    "    df.loc[df['bottom right y'] < 0, 'bottom right y'] = 0.0\n",
    "    \n",
    "    df.loc[df['top left x'] > image_width, 'top left x'] = image_width\n",
    "    df.loc[df['top left y'] > image_height, 'top left y'] = image_height\n",
    "    df.loc[df['top right x'] > image_width, 'top right x'] = image_width\n",
    "    df.loc[df['top right y'] > image_height, 'top right y'] = image_height\n",
    "    df.loc[df['bottom left x'] > image_width, 'bottom left x'] = image_width\n",
    "    df.loc[df['bottom left y'] > image_height, 'bottom left y'] = image_height\n",
    "    df.loc[df['bottom right x'] > image_width, 'bottom right x'] = image_width\n",
    "    df.loc[df['bottom right y'] > image_height, 'bottom right y'] = image_height\n",
    "    return df\n",
    "\n",
    "image_width = 1232\n",
    "image_height = 1028\n",
    "\n",
    "train_df['yolo_label'] = '0'\n",
    "train_df = clean_bbox(train_df, image_width, image_height)\n",
    "train_df['x_min'] = train_df.loc[:, ['top left x', 'bottom left x', 'top right x', 'bottom right x']].min(axis=1)\n",
    "train_df['y_min'] = train_df.loc[:, ['top left y', 'bottom left y', 'top right y', 'bottom right y']].min(axis=1)\n",
    "train_df['x_max'] = train_df.loc[:, ['top left x', 'bottom left x', 'top right x', 'bottom right x']].max(axis=1)\n",
    "train_df['y_max'] = train_df.loc[:, ['top left y', 'bottom left y', 'top right y', 'bottom right y']].max(axis=1)\n",
    "train_df['width'] = train_df['x_max'] - train_df['x_min']\n",
    "train_df['height'] = train_df['y_max'] - train_df['y_min']\n",
    "train_df['x_center'] = train_df['x_min'] + train_df['width']/2\n",
    "train_df['y_center'] = train_df['y_min'] + train_df['height']/2\n",
    "\n",
    "# Normalize the bbox by image size\n",
    "train_df['width'] = train_df['width'] / image_width\n",
    "train_df['height'] = train_df['height'] / image_height\n",
    "train_df['x_center'] = train_df['x_center'] / image_width\n",
    "train_df['y_center'] = train_df['y_center'] / image_height\n",
    "train_df.head()"
   ]
  },
  {
   "cell_type": "code",
   "execution_count": 6,
   "metadata": {},
   "outputs": [
    {
     "data": {
      "text/html": [
       "<div>\n",
       "<style scoped>\n",
       "    .dataframe tbody tr th:only-of-type {\n",
       "        vertical-align: middle;\n",
       "    }\n",
       "\n",
       "    .dataframe tbody tr th {\n",
       "        vertical-align: top;\n",
       "    }\n",
       "\n",
       "    .dataframe thead th {\n",
       "        text-align: right;\n",
       "    }\n",
       "</style>\n",
       "<table border=\"1\" class=\"dataframe\">\n",
       "  <thead>\n",
       "    <tr style=\"text-align: right;\">\n",
       "      <th></th>\n",
       "      <th>filename</th>\n",
       "      <th>yolo_label</th>\n",
       "      <th>x_center</th>\n",
       "      <th>y_center</th>\n",
       "      <th>width</th>\n",
       "      <th>height</th>\n",
       "    </tr>\n",
       "  </thead>\n",
       "  <tbody>\n",
       "    <tr>\n",
       "      <th>0</th>\n",
       "      <td>oR72wdOuzdHVh3sMMmC4gMG2aG5jeub</td>\n",
       "      <td>0</td>\n",
       "      <td>0.437553</td>\n",
       "      <td>0.425103</td>\n",
       "      <td>0.273449</td>\n",
       "      <td>0.048896</td>\n",
       "    </tr>\n",
       "    <tr>\n",
       "      <th>1</th>\n",
       "      <td>7VVWhb6tKde=x=w5x6_p=lfcTlGTBa</td>\n",
       "      <td>0</td>\n",
       "      <td>0.485054</td>\n",
       "      <td>0.446524</td>\n",
       "      <td>0.275998</td>\n",
       "      <td>0.063847</td>\n",
       "    </tr>\n",
       "    <tr>\n",
       "      <th>2</th>\n",
       "      <td>VweTPTTYjERnFWFr3R7=YFKrj9NBT1Lg</td>\n",
       "      <td>0</td>\n",
       "      <td>0.512500</td>\n",
       "      <td>0.510796</td>\n",
       "      <td>0.340512</td>\n",
       "      <td>0.057404</td>\n",
       "    </tr>\n",
       "    <tr>\n",
       "      <th>3</th>\n",
       "      <td>XOIg4ZPERXLzBmsdMd4XNHYH1r=Urbr</td>\n",
       "      <td>0</td>\n",
       "      <td>0.496886</td>\n",
       "      <td>0.546842</td>\n",
       "      <td>0.422659</td>\n",
       "      <td>0.076339</td>\n",
       "    </tr>\n",
       "    <tr>\n",
       "      <th>4</th>\n",
       "      <td>jm85agd8RyzlDBl6jjnpypYIuVw7BTvb</td>\n",
       "      <td>0</td>\n",
       "      <td>0.530666</td>\n",
       "      <td>0.440200</td>\n",
       "      <td>0.299559</td>\n",
       "      <td>0.053606</td>\n",
       "    </tr>\n",
       "  </tbody>\n",
       "</table>\n",
       "</div>"
      ],
      "text/plain": [
       "                           filename yolo_label  x_center  y_center     width  \\\n",
       "0   oR72wdOuzdHVh3sMMmC4gMG2aG5jeub          0  0.437553  0.425103  0.273449   \n",
       "1    7VVWhb6tKde=x=w5x6_p=lfcTlGTBa          0  0.485054  0.446524  0.275998   \n",
       "2  VweTPTTYjERnFWFr3R7=YFKrj9NBT1Lg          0  0.512500  0.510796  0.340512   \n",
       "3   XOIg4ZPERXLzBmsdMd4XNHYH1r=Urbr          0  0.496886  0.546842  0.422659   \n",
       "4  jm85agd8RyzlDBl6jjnpypYIuVw7BTvb          0  0.530666  0.440200  0.299559   \n",
       "\n",
       "     height  \n",
       "0  0.048896  \n",
       "1  0.063847  \n",
       "2  0.057404  \n",
       "3  0.076339  \n",
       "4  0.053606  "
      ]
     },
     "execution_count": 6,
     "metadata": {},
     "output_type": "execute_result"
    }
   ],
   "source": [
    "# YOLOv5格式: filename label_id x_center y_center width height\n",
    "train_df.loc[:, ['filename', 'yolo_label', 'x_center', 'y_center', 'width', 'height']].head()"
   ]
  },
  {
   "cell_type": "markdown",
   "metadata": {},
   "source": [
    "## 設定要匯出的路徑，並輸出標注檔。"
   ]
  },
  {
   "cell_type": "code",
   "execution_count": 71,
   "metadata": {},
   "outputs": [
    {
     "name": "stderr",
     "output_type": "stream",
     "text": [
      "100%|██████████| 12067/12067 [00:09<00:00, 1315.80it/s]\n"
     ]
    }
   ],
   "source": [
    "from tqdm import tqdm\n",
    "output_dir = './public_yolov5_data/train_split/labels'\n",
    "\n",
    "train_df['yolo_label'] = train_df['yolo_label'].astype(str)\n",
    "train_df['x_center'] = train_df['x_center'].astype(str)\n",
    "train_df['y_center'] = train_df['y_center'].astype(str)\n",
    "train_df['width'] = train_df['width'].astype(str)\n",
    "train_df['height'] = train_df['height'].astype(str)\n",
    "\n",
    "for i in tqdm(train_df.index):\n",
    "    output_path = os.path.join(output_dir, f\"{train_df.loc[i, 'filename']}.txt\")\n",
    "    with open(output_path, 'w') as f:\n",
    "        bbox_str = ' '.join(train_df.loc[i, ['yolo_label', 'x_center', 'y_center', 'width', 'height']].to_list())\n",
    "        f.write(bbox_str)\n"
   ]
  },
  {
   "cell_type": "code",
   "execution_count": null,
   "metadata": {},
   "outputs": [],
   "source": [
    "\n"
   ]
  },
  {
   "cell_type": "markdown",
   "metadata": {},
   "source": [
    "# 將YOLOv5資料集切分成training與validation"
   ]
  },
  {
   "cell_type": "code",
   "execution_count": 87,
   "metadata": {},
   "outputs": [
    {
     "name": "stdout",
     "output_type": "stream",
     "text": [
      "12067\n"
     ]
    }
   ],
   "source": [
    "import shutil\n",
    "# 設定資料集路徑\n",
    "src_dir = './public_yolov5_data/train_split'\n",
    "image_src = os.path.join(src_dir, 'images')\n",
    "label_src = os.path.join(src_dir, 'labels')\n",
    "\n",
    "dst_dir = './public_yolov5_data/val_split'\n",
    "image_dst = os.path.join(dst_dir, 'images')\n",
    "label_dst = os.path.join(dst_dir, 'labels')\n",
    "\n",
    "all_images = sorted(os.listdir(image_src))\n",
    "all_labels = sorted(os.listdir(label_src))\n",
    "print(len(all_images))"
   ]
  },
  {
   "cell_type": "markdown",
   "metadata": {},
   "source": [
    "## 設定validation dataset的比例並且計算數量"
   ]
  },
  {
   "cell_type": "code",
   "execution_count": 88,
   "metadata": {},
   "outputs": [
    {
     "name": "stdout",
     "output_type": "stream",
     "text": [
      "2413\n"
     ]
    }
   ],
   "source": [
    "val_ratio = 0.2\n",
    "val_size = int(len(all_images) * val_ratio)\n",
    "print(val_size)"
   ]
  },
  {
   "cell_type": "markdown",
   "metadata": {},
   "source": [
    "## 將val_ratio比例的資料搬移到dst_dir"
   ]
  },
  {
   "cell_type": "code",
   "execution_count": 89,
   "metadata": {},
   "outputs": [
    {
     "name": "stderr",
     "output_type": "stream",
     "text": [
      "2413it [00:00, 24441.49it/s]\n"
     ]
    }
   ],
   "source": [
    "for img, lab in tqdm(zip(all_images[-val_size:], all_labels[-val_size:])):\n",
    "    shutil.move(os.path.join(image_src, img), os.path.join(image_dst, img))\n",
    "    shutil.move(os.path.join(label_src, lab), os.path.join(label_dst, lab))    \n"
   ]
  },
  {
   "cell_type": "code",
   "execution_count": null,
   "metadata": {},
   "outputs": [],
   "source": []
  }
 ],
 "metadata": {
  "kernelspec": {
   "display_name": "Python 3 (ipykernel)",
   "language": "python",
   "name": "python3"
  },
  "language_info": {
   "codemirror_mode": {
    "name": "ipython",
    "version": 3
   },
   "file_extension": ".py",
   "mimetype": "text/x-python",
   "name": "python",
   "nbconvert_exporter": "python",
   "pygments_lexer": "ipython3",
   "version": "3.8.10"
  }
 },
 "nbformat": 4,
 "nbformat_minor": 4
}
