{
 "cells": [
  {
   "cell_type": "markdown",
   "id": "f14ab9bc",
   "metadata": {},
   "source": [
    "# 產出pseudo label檔案"
   ]
  },
  {
   "cell_type": "code",
   "execution_count": null,
   "id": "1c1b4dba",
   "metadata": {},
   "outputs": [],
   "source": [
    "import os\n",
    "import numpy as np\n",
    "import pandas as pd\n",
    "import matplotlib.pyplot as plt\n",
    "from PIL import Image"
   ]
  },
  {
   "cell_type": "code",
   "execution_count": null,
   "id": "f14f9be6",
   "metadata": {},
   "outputs": [],
   "source": [
    "# df = pd.read_csv(\"./mmocr/sub_test_satrn_score.csv\") # 1st pseudo label \n",
    "df = pd.read_csv(\"ensemble_4models_private_score_v1.csv\") # 2nd pseudo label\n",
    "df.head()"
   ]
  },
  {
   "cell_type": "code",
   "execution_count": null,
   "id": "9ab77bd4",
   "metadata": {},
   "outputs": [],
   "source": [
    "print(df.quantile(0.2))\n",
    "df['text'].str.len().value_counts()"
   ]
  },
  {
   "cell_type": "code",
   "execution_count": null,
   "id": "e084556e",
   "metadata": {},
   "outputs": [],
   "source": [
    "# df.min_score.min()\n",
    "# data_root = './lmdb_test/public_testing'\n",
    "# data_root = './public_testing_raw/public_testing_data'\n",
    "data_root = './private_testing/private_testing'"
   ]
  },
  {
   "cell_type": "code",
   "execution_count": null,
   "id": "00fa511d",
   "metadata": {},
   "outputs": [],
   "source": [
    "threshold = 0.4\n",
    "df = df.sort_values(by='min_score', ascending=True).reset_index(drop=True)\n",
    "# sub_df = df.loc[df.min_score < threshold, :].reset_index(drop=True)\n",
    "sub_df = df.loc[df.text.str.len() == 9, :].reset_index(drop=True)\n",
    "img_list = [f\"{f}.jpg\" for f in sub_df.loc[:, 'id'].to_list()]\n",
    "# for i, img in enumerate(img_list):\n",
    "#     plt.imshow(Image.open(os.path.join(data_root, img)))\n",
    "#     plt.title(f\"{img}: {sub_df.loc[i, 'text']}\")\n",
    "#     plt.show()\n",
    "#     plt.close()"
   ]
  },
  {
   "cell_type": "code",
   "execution_count": null,
   "id": "53ed2c47",
   "metadata": {},
   "outputs": [],
   "source": [
    "df = df.sort_values(by='min_score', ascending=False).reset_index(drop=True)\n",
    "df.iloc[:9000, :]"
   ]
  },
  {
   "cell_type": "code",
   "execution_count": null,
   "id": "78e2e863",
   "metadata": {},
   "outputs": [],
   "source": [
    "df.iloc[:9000, :].text.str.len().value_counts()"
   ]
  },
  {
   "cell_type": "code",
   "execution_count": null,
   "id": "87bc3ffe",
   "metadata": {},
   "outputs": [],
   "source": [
    "# Only keep test with prediction length 8 or 10 (Remove 9 & 11)\n",
    "# output_num = 8000 # 1st round for pseudo labeling\n",
    "output_num = 9000 # 2nd round for pseudo labeling\n",
    "output_path = \"./private_testing/pseudo_label_test.txt\"\n",
    "res_df = pd.read_csv(\"./mmocr/sub_test_satrn_score.csv\")\n",
    "res_df = res_df.sort_values(by='min_score', ascending=False).reset_index(drop=True)\n",
    "res_df = res_df.loc[res_df.text.str.len().isin([8, 10]), :].reset_index(drop=True)\n",
    "res_df = res_df.iloc[:output_num, :]\n",
    "print(res_df.columns)\n",
    "print(res_df.min_score.min())\n",
    "res_df = res_df.loc[:, ['id', 'text']]\n",
    "res_df['id'] = \"private_testing/\" + res_df['id'] + \".jpg\"\n",
    "res_df.to_csv(output_path, index=False, header=None, sep='\\t')\n",
    "res_df"
   ]
  },
  {
   "cell_type": "code",
   "execution_count": null,
   "id": "5e8bfcaf",
   "metadata": {},
   "outputs": [],
   "source": [
    "res_df.shape"
   ]
  },
  {
   "cell_type": "code",
   "execution_count": null,
   "id": "b91a71ea",
   "metadata": {},
   "outputs": [],
   "source": []
  },
  {
   "cell_type": "code",
   "execution_count": null,
   "id": "5176efb6",
   "metadata": {},
   "outputs": [],
   "source": [
    "import pandas as pd\n",
    "df = pd.read_csv(\"./private_testing/dummy_gt.txt\", sep='\\t', header=None)\n",
    "df[0] = df[0].apply(lambda x: x.split('private_testing/')[1])\n",
    "df[0] = \"private_testing_reversed/\"+df[0]\n",
    "df.to_csv(\"./private_testing/dummy_gt_reversed.txt\", header=None, index=False, sep='\\t')"
   ]
  },
  {
   "cell_type": "code",
   "execution_count": null,
   "id": "ffd5f232",
   "metadata": {},
   "outputs": [],
   "source": [
    "# df"
   ]
  }
 ],
 "metadata": {
  "kernelspec": {
   "display_name": "Python 3 (ipykernel)",
   "language": "python",
   "name": "python3"
  },
  "language_info": {
   "codemirror_mode": {
    "name": "ipython",
    "version": 3
   },
   "file_extension": ".py",
   "mimetype": "text/x-python",
   "name": "python",
   "nbconvert_exporter": "python",
   "pygments_lexer": "ipython3",
   "version": "3.8.10"
  }
 },
 "nbformat": 4,
 "nbformat_minor": 5
}
