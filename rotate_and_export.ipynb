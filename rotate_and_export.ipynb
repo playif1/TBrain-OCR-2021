{
 "cells": [
  {
   "cell_type": "markdown",
   "id": "ef5b1ec0",
   "metadata": {},
   "source": [
    "# Rotate the image and save"
   ]
  },
  {
   "cell_type": "code",
   "execution_count": null,
   "id": "d4c12fc8",
   "metadata": {},
   "outputs": [],
   "source": [
    "# Rotate the image and save.\n",
    "import os\n",
    "import PIL\n",
    "from tqdm import tqdm\n",
    "def rotate_and_save_image(src_dir, dst_dir, image_list):\n",
    "\n",
    "    \n",
    "    for img in tqdm(image_list):\n",
    "        img_path = os.path.join(src_dir, img)\n",
    "        pil_img = PIL.Image.open(img_path)\n",
    "        pil_img = pil_img.rotate(180)\n",
    "        pil_img.save( os.path.join(dst_dir, img), \"JPEG\" )\n",
    "\n",
    "src_dir = \"./private_testing/private_testing_raw\"\n",
    "dst_dir = \"./private_testing/private_testing_reversed\"\n",
    "image_list = os.listdir(src_dir)\n",
    "\n",
    "rotate_and_save_image(src_dir, dst_dir, image_list)"
   ]
  },
  {
   "cell_type": "markdown",
   "id": "a842a60d",
   "metadata": {},
   "source": [
    "# 將reversed信心值比較高圖片旋轉180度並儲存到另一個資料夾"
   ]
  },
  {
   "cell_type": "code",
   "execution_count": null,
   "id": "16397e02",
   "metadata": {},
   "outputs": [],
   "source": [
    "# Check for reversed probability\n",
    "import pandas as pd\n",
    "df = pd.read_csv(\"./mmocr/sub_test_satrn_raw_score.csv\")\n",
    "rdf = pd.read_csv(\"./mmocr/sub_test_satrn_reversed_score.csv\")\n",
    "rdf.columns = [f'r{f}' for f in rdf.columns]\n",
    "rdf"
   ]
  },
  {
   "cell_type": "code",
   "execution_count": null,
   "id": "de5025f9",
   "metadata": {},
   "outputs": [],
   "source": [
    "mdf = pd.concat([df, rdf], axis=1)\n",
    "final_df = mdf.loc[(mdf.min_score < mdf.quantile(0.5)['min_score']) & (mdf.min_score < mdf.rmin_score), :]\n",
    "# final_df = mdf.loc[(mdf.min_score < mdf.rmin_score), :]\n",
    "\n",
    "final_df.to_csv(\"private_test_rotate_candidate_round2.csv\", index=False)"
   ]
  },
  {
   "cell_type": "code",
   "execution_count": null,
   "id": "8eb9d265",
   "metadata": {},
   "outputs": [],
   "source": [
    "image_list = [f\"{f}.jpg\" for f in final_df['id'].tolist()]\n",
    "rotate_and_save_image(src_dir=\"./private_testing/private_testing_raw\", dst_dir=\"./private_testing/private_testing\", image_list=image_list)"
   ]
  }
 ],
 "metadata": {
  "kernelspec": {
   "display_name": "Python 3 (ipykernel)",
   "language": "python",
   "name": "python3"
  },
  "language_info": {
   "codemirror_mode": {
    "name": "ipython",
    "version": 3
   },
   "file_extension": ".py",
   "mimetype": "text/x-python",
   "name": "python",
   "nbconvert_exporter": "python",
   "pygments_lexer": "ipython3",
   "version": "3.8.10"
  }
 },
 "nbformat": 4,
 "nbformat_minor": 5
}
